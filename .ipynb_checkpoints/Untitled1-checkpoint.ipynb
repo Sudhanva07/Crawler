{
 "cells": [
  {
   "cell_type": "code",
   "execution_count": 10,
   "metadata": {},
   "outputs": [],
   "source": [
    "import mysql.connector"
   ]
  },
  {
   "cell_type": "code",
   "execution_count": 21,
   "metadata": {},
   "outputs": [
    {
     "name": "stdout",
     "output_type": "stream",
     "text": [
      "['id', 'Name', 'price', 'Milage', 'cityMilage', 'fuelType', 'engine_cc', 'maxPower', 'maxTorque', 'seats', 'engineDiscription', 'TransmissionType', 'cargoVolume', 'links']\n",
      "14 record inserted.\n"
     ]
    }
   ],
   "source": [
    "mydb = mysql.connector.connect(\n",
    "  host=\"localhost\",\n",
    "  user=\"root\",\n",
    "  passwd=\"\",\n",
    "  database=\"cars\"\n",
    ")\n",
    "mycursor = mydb.cursor()\n",
    "\n",
    "mycursor.execute(\"desc car_details\")\n",
    "colname = [column[0] for column in mycursor.fetchall()]\n",
    "print(colname)\n",
    "mydb.commit()\n",
    "\n",
    "print(mycursor.rowcount, \"record inserted.\")"
   ]
  },
  {
   "cell_type": "code",
   "execution_count": 16,
   "metadata": {},
   "outputs": [],
   "source": [
    "class sqlDB:\n",
    "    def __init__(self,host,user,passwd,database):\n",
    "        self.host = host\n",
    "        self.user = user\n",
    "        self.passwd = passwd\n",
    "        self.database = database\n",
    "        self.mydb = mysql.connector.connect(\n",
    "          host= self.host,\n",
    "          user=self.user,\n",
    "          passwd=self.passwd,\n",
    "          database=self.database\n",
    "        )\n",
    "        self.mycursor = mydb.cursor()\n",
    "    \n",
    "    def execute(self,sql,val):\n",
    "        self.mycursor.execute(sql,val)\n",
    "        self.mydb.commit()\n",
    "        print(self.mycursor.rowcount,\"record inserted.\")\n",
    "\n",
    "    \n",
    "        "
   ]
  },
  {
   "cell_type": "code",
   "execution_count": 17,
   "metadata": {},
   "outputs": [
    {
     "name": "stdout",
     "output_type": "stream",
     "text": [
      "1 record inserted.\n"
     ]
    }
   ],
   "source": [
    "a = sqlDB(\"localhost\",\"root\",\"\",\"foodee\")\n",
    "sql = \"INSERT INTO user (username, email,phno,datentime,selection,feedback) VALUES (%s, %s,%s,%s,%s,%s)\"\n",
    "val = ['1197', '81.80bhp@6000rpm', '113Nm@4200rpm',\"2001-02-03\",\"wedding\",\"thanks!!\"]\n",
    "a.execute(sql,val)\n",
    "\n"
   ]
  },
  {
   "cell_type": "code",
   "execution_count": null,
   "metadata": {},
   "outputs": [],
   "source": []
  }
 ],
 "metadata": {
  "kernelspec": {
   "display_name": "Python 3",
   "language": "python",
   "name": "python3"
  },
  "language_info": {
   "codemirror_mode": {
    "name": "ipython",
    "version": 3
   },
   "file_extension": ".py",
   "mimetype": "text/x-python",
   "name": "python",
   "nbconvert_exporter": "python",
   "pygments_lexer": "ipython3",
   "version": "3.6.5"
  }
 },
 "nbformat": 4,
 "nbformat_minor": 2
}
