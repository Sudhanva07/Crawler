{
 "cells": [
  {
   "cell_type": "code",
   "execution_count": 56,
   "metadata": {},
   "outputs": [],
   "source": [
    "import bs4\n",
    "import requests"
   ]
  },
  {
   "cell_type": "code",
   "execution_count": 106,
   "metadata": {},
   "outputs": [],
   "source": [
    "class obtainData:\n",
    "#     def __init__(self):\n",
    "#         self.link = \"\"\n",
    "#         self.data = list\n",
    "        \n",
    "    def get_data(link):\n",
    "#         self.link = link\n",
    "        req = requests.get(link)\n",
    "        soup = bs4.BeautifulSoup(req.text,\"html.parser\")\n",
    "        data = soup.find_all(\"td\",attrs={\"class\",\"gsc_col-xs-12 textHold\"})\n",
    "        for dat in data:\n",
    "            print(dat.get_text())\n",
    "#         rows = data.find_all(\"tr\")\n",
    "#         for tr in rows:\n",
    "#             cols = tr.find_all(\"td\")\n",
    "#             for td in cols:\n",
    "#                 print(td)\n",
    "        \n",
    "        \n",
    "        "
   ]
  },
  {
   "cell_type": "code",
   "execution_count": 107,
   "metadata": {},
   "outputs": [
    {
     "name": "stdout",
     "output_type": "stream",
     "text": [
      "28.4 kmpl\n",
      "1248 cc\n",
      "81.8\n",
      "Manual/Automatic\n",
      "5\n",
      "Rs.4,483/yr\n"
     ]
    }
   ],
   "source": [
    "a = obtainData\n",
    "link = \"https://www.cardekho.com/carmodels/Maruti/Maruti_Swift\"\n",
    "a.get_data(link)"
   ]
  },
  {
   "cell_type": "code",
   "execution_count": null,
   "metadata": {},
   "outputs": [],
   "source": []
  }
 ],
 "metadata": {
  "kernelspec": {
   "display_name": "Python 3",
   "language": "python",
   "name": "python3"
  },
  "language_info": {
   "codemirror_mode": {
    "name": "ipython",
    "version": 3
   },
   "file_extension": ".py",
   "mimetype": "text/x-python",
   "name": "python",
   "nbconvert_exporter": "python",
   "pygments_lexer": "ipython3",
   "version": "3.6.5"
  }
 },
 "nbformat": 4,
 "nbformat_minor": 2
}
