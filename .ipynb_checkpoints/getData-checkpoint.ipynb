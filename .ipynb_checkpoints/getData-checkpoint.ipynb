{
 "cells": [
  {
   "cell_type": "code",
   "execution_count": 2,
   "metadata": {},
   "outputs": [],
   "source": [
    "import bs4\n",
    "import requests"
   ]
  },
  {
   "cell_type": "code",
   "execution_count": 130,
   "metadata": {},
   "outputs": [],
   "source": [
    "\n",
    "\n",
    "def get_data(link):\n",
    "#         self.link = link\n",
    "    data_to_send  = []\n",
    "    data_to_get =[]\n",
    "    req6 = requests.get(link)\n",
    "    soup6 = bs4.BeautifulSoup(req6.text,\"html.parser\")\n",
    "    #Car NAme\n",
    "    data9 = soup6.find(\"div\",attrs={\"class\",\"gsc_col-xs-12 gsc_col-sm-12 gsc_col-md-7 gsc_col-lg-7 overviewdetail\"})\n",
    "    data_to_send.append(data9.h1.get_text())\n",
    "\n",
    "    #Car Price\n",
    "    data10 = data9.find(\"div\",attrs={\"class\",\"price\"})\n",
    "    if data10 == None:\n",
    "        data_to_send.append(\"varient Experied\")\n",
    "    else:\n",
    "        price = data10.get_text().split('*')\n",
    "        data_to_send.append(price[0])\n",
    "\n",
    "    #---------------car details----------------------------------\n",
    "\n",
    "    data7 = soup6.find_all(\"table\",attrs={\"class\",\"keyfeature\"})\n",
    "    print(len(data7))\n",
    "    if len(data7) == 13:\n",
    "        data_in_td = data7[2:7]\n",
    "        data_in_single = data7[7:-1]\n",
    "    elif len(data7) == 12:\n",
    "        data_in_td = data7[1:6]\n",
    "        data_in_single = data7[6:-1]\n",
    "\n",
    "\n",
    "    for dat in data_in_td:\n",
    "        data = dat.find_all(\"td\")\n",
    "        for tdata in data:\n",
    "            data_to_get.append(tdata.get_text())\n",
    "#                 data = 1\n",
    "    for dat in data_in_single:\n",
    "        daa = dat.find_all(\"i\")\n",
    "        for da in daa:\n",
    "            data_to_get.append(da.get_text())\n",
    "#                 dara =1 \n",
    "    data_left = data_to_get[::2]\n",
    "    data_right = data_to_get[1::2]\n",
    "#         print(data_left)\n",
    "#         print(data_right)\n",
    "\n",
    "#         img_link = soup6.select(\".modelimage\")\n",
    "#         for im in img_link:\n",
    "#             print(im.find(\"li\").img.attrs['src'])\n",
    "\n",
    "\n",
    "    return data_to_send,data_left,data_right\n",
    "\n",
    "\n",
    "#         return data_to_send\n",
    "\n",
    "\n"
   ]
  },
  {
   "cell_type": "code",
   "execution_count": 131,
   "metadata": {},
   "outputs": [
    {
     "name": "stdout",
     "output_type": "stream",
     "text": [
      "12\n",
      "[]\n"
     ]
    }
   ],
   "source": [
    "link = \"https://www.cardekho.com/overview/Maruti_Omni/Maruti_Omni_MPI_STD_BSIV.htm\"\n",
    "b = get_data(link)"
   ]
  },
  {
   "cell_type": "code",
   "execution_count": null,
   "metadata": {},
   "outputs": [],
   "source": [
    "        picture_link = link + \"#picturegallery\"\n",
    "        req = requests.get(picture_link)\n",
    "        soup = bs4.BeautifulSoup(req.text,\"html.parser\")\n",
    "        \n",
    "        img = soup.select(\"#gallery_section\")\n",
    "        print(img)"
   ]
  },
  {
   "cell_type": "code",
   "execution_count": null,
   "metadata": {},
   "outputs": [],
   "source": []
  }
 ],
 "metadata": {
  "kernelspec": {
   "display_name": "Python 3",
   "language": "python",
   "name": "python3"
  },
  "language_info": {
   "codemirror_mode": {
    "name": "ipython",
    "version": 3
   },
   "file_extension": ".py",
   "mimetype": "text/x-python",
   "name": "python",
   "nbconvert_exporter": "python",
   "pygments_lexer": "ipython3",
   "version": "3.6.5"
  }
 },
 "nbformat": 4,
 "nbformat_minor": 2
}
