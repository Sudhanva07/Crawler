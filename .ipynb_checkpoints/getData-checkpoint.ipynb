{
 "cells": [
  {
   "cell_type": "code",
   "execution_count": 2,
   "metadata": {},
   "outputs": [],
   "source": [
    "import bs4\n",
    "import requests"
   ]
  },
  {
   "cell_type": "code",
   "execution_count": 85,
   "metadata": {},
   "outputs": [],
   "source": [
    "class obtainData:\n",
    "#     def __init__(self):\n",
    "#         self.link = \"\"\n",
    "#         self.data = list\n",
    "        \n",
    "    def get_data(link):\n",
    "#         self.link = link\n",
    "        data_to_send  = []\n",
    "        data_to_get =[]\n",
    "        req6 = requests.get(link)\n",
    "        soup6 = bs4.BeautifulSoup(req6.text,\"html.parser\")\n",
    "        \n",
    "        data9 = soup6.find(\"div\",attrs={\"class\",\"gsc_col-xs-12 gsc_col-sm-12 gsc_col-md-7 gsc_col-lg-7 overviewdetail\"})\n",
    "        data_to_send.append(data9.h1.get_text())\n",
    "\n",
    "        data10 = data9.find(\"div\",attrs={\"class\",\"price\"})\n",
    "        if data10 == None:\n",
    "            data_to_send.append(\"varient Experied\")\n",
    "        else:\n",
    "            price = data10.get_text().split('*')\n",
    "            data_to_send.append(price[0])\n",
    "\n",
    "        \n",
    "        data7 = soup6.find(\"td\",text=\"Fuel Type\").parent\n",
    "        data8 = data7.parent\n",
    "#         print(data8.find_all(\"td\"))\n",
    "        for dat in data8.find_all(\"td\"):\n",
    "            data_to_get.append(dat.get_text())\n",
    "        data_left = data_to_get[::2]\n",
    "        data_right = data_to_get[1::2]\n",
    "        print(data_left)\n",
    "        print(data_right)\n",
    "        \n",
    "        \n",
    "        \n",
    "        data9 = soup6.find(\"td\",text=\"Engine(cc)\")\n",
    "        print(data9.find_next_sibling())\n",
    "#         if data9 == None:\n",
    "#             data_to_send.insert(3,\"None\") \n",
    "# #         print(soup6.find(\"td\",text=\"City Mileage\"))\n",
    "\n",
    "        \n",
    "#         return data_to_send\n",
    "\n",
    "        \n",
    "        "
   ]
  },
  {
   "cell_type": "code",
   "execution_count": 86,
   "metadata": {},
   "outputs": [
    {
     "name": "stdout",
     "output_type": "stream",
     "text": [
      "['ARAI Mileage', 'Fuel Type', 'Engine(cc)', 'Max Power', 'Max Torque', 'Seating', 'Engine Description', 'TransmissionType', 'Cargo Volume']\n",
      "['21.4 kmpl', 'Petrol', '1197', '83.1bhp@6000rpm', '115Nm@4000rpm', '5', '1.2-litre 83.1bhp 16V VVT Petrol Engine', 'Manual', '339-litres']\n",
      "<td class=\"right\"><span>1197</span></td>\n"
     ]
    }
   ],
   "source": [
    "a = obtainData\n",
    "link = \"https://www.cardekho.com/overview/Maruti_Baleno/Maruti_Baleno_1.2_Sigma.htm\"\n",
    "data = a.get_data(link)\n",
    "data"
   ]
  },
  {
   "cell_type": "code",
   "execution_count": null,
   "metadata": {},
   "outputs": [],
   "source": []
  },
  {
   "cell_type": "code",
   "execution_count": null,
   "metadata": {},
   "outputs": [],
   "source": []
  }
 ],
 "metadata": {
  "kernelspec": {
   "display_name": "Python 3",
   "language": "python",
   "name": "python3"
  },
  "language_info": {
   "codemirror_mode": {
    "name": "ipython",
    "version": 3
   },
   "file_extension": ".py",
   "mimetype": "text/x-python",
   "name": "python",
   "nbconvert_exporter": "python",
   "pygments_lexer": "ipython3",
   "version": "3.6.5"
  }
 },
 "nbformat": 4,
 "nbformat_minor": 2
}
