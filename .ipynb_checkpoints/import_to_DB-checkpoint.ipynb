{
 "cells": [
  {
   "cell_type": "code",
   "execution_count": 1,
   "metadata": {},
   "outputs": [],
   "source": [
    "from getData import *\n",
    "from mysqlDB import *  "
   ]
  },
  {
   "cell_type": "code",
   "execution_count": 2,
   "metadata": {},
   "outputs": [],
   "source": [
    "a = sqlDB(\"localhost\",\"root\",\"\",\"cars\")\n",
    "a.closeDB()"
   ]
  },
  {
   "cell_type": "code",
   "execution_count": 11,
   "metadata": {},
   "outputs": [
    {
     "name": "stdout",
     "output_type": "stream",
     "text": [
      "https://www.cardekho.com/overview/Maruti_Swift/Maruti_Swift_LXI_2018.htm\n"
     ]
    },
    {
     "ename": "UnboundLocalError",
     "evalue": "local variable 'x' referenced before assignment",
     "output_type": "error",
     "traceback": [
      "\u001b[1;31m---------------------------------------------------------------------------\u001b[0m",
      "\u001b[1;31mUnboundLocalError\u001b[0m                         Traceback (most recent call last)",
      "\u001b[1;32m<ipython-input-11-87616b5bc6b5>\u001b[0m in \u001b[0;36m<module>\u001b[1;34m()\u001b[0m\n\u001b[0;32m     38\u001b[0m         \u001b[0ma\u001b[0m\u001b[1;33m.\u001b[0m\u001b[0mexecute_single\u001b[0m\u001b[1;33m(\u001b[0m\u001b[0mupdate_table\u001b[0m\u001b[1;33m)\u001b[0m\u001b[1;33m\u001b[0m\u001b[0m\n\u001b[0;32m     39\u001b[0m \u001b[1;33m\u001b[0m\u001b[0m\n\u001b[1;32m---> 40\u001b[1;33m \u001b[0mImport_DB\u001b[0m\u001b[1;33m(\u001b[0m\u001b[0mlinks\u001b[0m\u001b[1;33m)\u001b[0m\u001b[1;33m\u001b[0m\u001b[0m\n\u001b[0m",
      "\u001b[1;32m<ipython-input-11-87616b5bc6b5>\u001b[0m in \u001b[0;36mImport_DB\u001b[1;34m(link)\u001b[0m\n\u001b[0;32m      4\u001b[0m     \u001b[0ma\u001b[0m \u001b[1;33m=\u001b[0m \u001b[0msqlDB\u001b[0m\u001b[1;33m(\u001b[0m\u001b[1;34m\"localhost\"\u001b[0m\u001b[1;33m,\u001b[0m\u001b[1;34m\"root\"\u001b[0m\u001b[1;33m,\u001b[0m\u001b[1;34m\"\"\u001b[0m\u001b[1;33m,\u001b[0m\u001b[1;34m\"cars\"\u001b[0m\u001b[1;33m)\u001b[0m\u001b[1;33m\u001b[0m\u001b[0m\n\u001b[0;32m      5\u001b[0m \u001b[1;33m\u001b[0m\u001b[0m\n\u001b[1;32m----> 6\u001b[1;33m     \u001b[0mprint\u001b[0m\u001b[1;33m(\u001b[0m\u001b[0mx\u001b[0m\u001b[1;33m)\u001b[0m\u001b[1;33m\u001b[0m\u001b[0m\n\u001b[0m\u001b[0;32m      7\u001b[0m     \u001b[0mflag\u001b[0m \u001b[1;33m=\u001b[0m \u001b[1;36m0\u001b[0m\u001b[1;33m\u001b[0m\u001b[0m\n\u001b[0;32m      8\u001b[0m     \u001b[0mcar_name\u001b[0m \u001b[1;33m=\u001b[0m \u001b[1;33m[\u001b[0m\u001b[1;34m\"Name\"\u001b[0m\u001b[1;33m,\u001b[0m\u001b[1;34m\"price\"\u001b[0m\u001b[1;33m]\u001b[0m\u001b[1;33m\u001b[0m\u001b[0m\n",
      "\u001b[1;31mUnboundLocalError\u001b[0m: local variable 'x' referenced before assignment"
     ]
    }
   ],
   "source": [
    "links = \"https://www.cardekho.com/overview/Maruti_Swift/Maruti_Swift_LXI_2018.htm\"\n",
    "def Import_DB(link):\n",
    "    print(link)\n",
    "    a = sqlDB(\"localhost\",\"root\",\"\",\"cars\")\n",
    "\n",
    "    flag = 0\n",
    "    car_name = [\"Name\",\"price\"]\n",
    "    name,left,right = get_data(link)\n",
    "\n",
    "    [car_name.append(x) for x in left]\n",
    "    [name.append(x) for x in right]\n",
    "    print(car_name)\n",
    "    print(name)\n",
    "    for attr,val in zip(car_name,name):\n",
    "        sql = \"desc car_details\"\n",
    "        data = a.retrive_sql(sql)\n",
    "        x = [i[0] for i in data]\n",
    "        flag = 0\n",
    "        val = val.replace(\"@\",\"_\").replace(\"'\",\"\").replace(\"/n\",\"\")\n",
    "        attr = attr.replace(\"(\",\"_\").replace(\")\",\"_\").replace(\"'\",\"\").replace(\" \",\"_\").replace(\".\",\"\").replace(\"-\",\"_\").replace(\"/\",\"_or_\").replace(\"&\",\"and\")\n",
    "\n",
    "        for db_attr in x:\n",
    "#             print(db_attr)\n",
    "            if attr == db_attr :\n",
    "                flag = 1\n",
    "                break\n",
    "            else:\n",
    "                flag = 0\n",
    "        print(flag)\n",
    "        if flag == 0:\n",
    "            create_table = \"ALTER TABLE car_details ADD COLUMN %s VARCHAR(100) DEFAULT NULL\"%(attr)\n",
    "            a.execute_single(create_table)\n",
    "\n",
    "        else:\n",
    "            pass\n",
    "        update_table = \"UPDATE car_details set %s = '%s' where links='%s'\"%(attr,val,link)\n",
    "        a.execute_single(update_table)\n",
    "\n",
    "Import_DB(links)"
   ]
  },
  {
   "cell_type": "code",
   "execution_count": null,
   "metadata": {},
   "outputs": [],
   "source": []
  }
 ],
 "metadata": {
  "kernelspec": {
   "display_name": "Python 3",
   "language": "python",
   "name": "python3"
  },
  "language_info": {
   "codemirror_mode": {
    "name": "ipython",
    "version": 3
   },
   "file_extension": ".py",
   "mimetype": "text/x-python",
   "name": "python",
   "nbconvert_exporter": "python",
   "pygments_lexer": "ipython3",
   "version": "3.6.5"
  }
 },
 "nbformat": 4,
 "nbformat_minor": 2
}
