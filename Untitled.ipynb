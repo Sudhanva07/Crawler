{
 "cells": [
  {
   "cell_type": "code",
   "execution_count": 62,
   "metadata": {},
   "outputs": [],
   "source": [
    "import bs4\n",
    "import requests"
   ]
  },
  {
   "cell_type": "code",
   "execution_count": 80,
   "metadata": {},
   "outputs": [
    {
     "name": "stdout",
     "output_type": "stream",
     "text": [
      "/cars/Maruti\n",
      "/cars/Hyundai\n",
      "/cars/Honda\n",
      "/cars/Tata\n",
      "/cars/Mahindra\n",
      "/cars/Renault\n",
      "/cars/Ford\n",
      "/cars/Nissan\n",
      "/cars/Datsun\n",
      "/cars/Toyota\n",
      "/cars/Volkswagen\n",
      "/cars/Skoda\n",
      "/cars/Jeep\n",
      "/cars/Kia\n",
      "/cars/MG\n",
      "/cars/Fiat\n",
      "/cars/Isuzu\n",
      "/cars/Audi\n",
      "/cars/Mercedes-Benz\n",
      "/cars/BMW\n",
      "/cars/Jaguar\n",
      "/cars/Volvo\n",
      "/cars/Lexus\n",
      "/cars/Land_Rover\n",
      "/cars/Porsche\n",
      "/cars/Ferrari\n",
      "/cars/Rolls-Royce\n",
      "/cars/Bentley\n",
      "/cars/DC\n",
      "/cars/Bugatti\n",
      "/cars/Force\n",
      "/cars/ICML\n",
      "/cars/Mitsubishi\n",
      "/cars/Bajaj\n",
      "/cars/Citroen\n",
      "/cars/Lamborghini\n",
      "/cars/Mini\n",
      "/cars/Aston_Martin\n",
      "/cars/Maserati\n",
      "/cars/Tesla\n",
      "/cars/Premier\n"
     ]
    }
   ],
   "source": [
    "link = \"https://www.cardekho.com/newcars\"\n",
    "req = requests.get(link)\n",
    "soup = bs4.BeautifulSoup(req.text,\"html.parser\")\n",
    "# data = soup.find(\"div\",{\"id\",\"all_brands\"})\n",
    "data = soup.find_all(\"li\",attrs={\"class\",\"gsc_col-xs-4 gsc_col-sm-3 gsc_col-md-3 gsc_col-lg-2\"})\n",
    "for dat in data:\n",
    "    print(dat.find(\"a\").attrs[\"href\"])\n"
   ]
  },
  {
   "cell_type": "code",
   "execution_count": 93,
   "metadata": {},
   "outputs": [
    {
     "name": "stdout",
     "output_type": "stream",
     "text": [
      "/carmodels/Maruti/Maruti_Swift\n",
      "/carmodels/Maruti/Maruti_Baleno\n",
      "/carmodels/Maruti/Maruti_Vitara_Brezza\n",
      "/carmodels/Maruti/Maruti_Ertiga\n",
      "/carmodels/Maruti/Maruti_Swift_Dzire\n",
      "/carmodels/Maruti/Maruti_Wagon_R\n",
      "/carmodels/Maruti/Maruti_Alto_800\n",
      "/carmodels/Maruti/Maruti_Celerio\n",
      "/carmodels/Maruti/Maruti_Alto_K10\n",
      "/carmodels/Maruti/Maruti_Ciaz\n",
      "/carmodels/Maruti/Maruti_SX4_S_Cross\n",
      "/carmodels/Maruti/Maruti_Ignis\n",
      "/carmodels/Maruti/Maruti_Omni\n",
      "/carmodels/Maruti/Maruti_Eeco\n",
      "/carmodels/Maruti/Maruti_Gypsy\n",
      "/maruti/celerio-x\n",
      "/maruti/baleno-rs\n"
     ]
    }
   ],
   "source": [
    "link2 = \"https://www.cardekho.com/cars/Maruti\"\n",
    "req2 = requests.get(link2)\n",
    "soup2 = bs4.BeautifulSoup(req2.text,\"html.parser\")\n",
    "data2 = soup2.find(\"section\",attrs={\"class\",\" gsc_row gsc_container_hold heading BrandPagelist marginTop20\"}).find_all(\"h3\")\n",
    "for dat in data2:\n",
    "    print(dat.a.attrs['href'])\n",
    "# print(data2)\n",
    "# data2"
   ]
  },
  {
   "cell_type": "code",
   "execution_count": 110,
   "metadata": {},
   "outputs": [
    {
     "name": "stdout",
     "output_type": "stream",
     "text": [
      "/maruti/maruti-gypsy-specifications.htm\n"
     ]
    }
   ],
   "source": [
    "link3 = \"https://www.cardekho.com/carmodels/Maruti/Maruti_Gypsy\"\n",
    "req3 = requests.get(link3)\n",
    "soup3 = bs4.BeautifulSoup(req3.text,\"html.parser\")\n",
    "data3 = soup3.find(\"a\",text=\"Specs\").attrs['href']\n",
    "print(data3)"
   ]
  },
  {
   "cell_type": "code",
   "execution_count": 123,
   "metadata": {},
   "outputs": [
    {
     "name": "stdout",
     "output_type": "stream",
     "text": [
      "/maruti/gypsy/variants.htm\n"
     ]
    }
   ],
   "source": [
    "link4 = \"https://www.cardekho.com/maruti/maruti-gypsy-specifications.htm\"\n",
    "req4 = requests.get(link4)\n",
    "soup4 = bs4.BeautifulSoup(req4.text,\"html.parser\")\n",
    "data4 = soup4.find(\"h2\",text=\"Further Research\").find_next_sibling()\n",
    "print(data4.a.attrs['href'])"
   ]
  },
  {
   "cell_type": "code",
   "execution_count": 138,
   "metadata": {},
   "outputs": [
    {
     "name": "stdout",
     "output_type": "stream",
     "text": [
      "/overview/Maruti_Gypsy/Maruti_Gypsy_King_Hard_Top_Ambulance_BSIV.htm\n",
      "/overview/Maruti_Gypsy/Maruti_Gypsy_King_Soft_Top_MPI_BSIV.htm\n",
      "/overview/Maruti_Gypsy/Maruti_Gypsy_King_Hard_Top_MPI_BSIV.htm\n"
     ]
    }
   ],
   "source": [
    "link5 = \"https://www.cardekho.com/maruti/gypsy/variants.htm\"\n",
    "req5 = requests.get(link5)\n",
    "soup5 = bs4.BeautifulSoup(req5.text,\"html.parser\")\n",
    "data5 = soup5.table.find_all(\"a\")\n",
    "for dat in data5:\n",
    "    print(dat.attrs['href'])\n"
   ]
  },
  {
   "cell_type": "code",
   "execution_count": 185,
   "metadata": {},
   "outputs": [
    {
     "name": "stdout",
     "output_type": "stream",
     "text": [
      "11.96 kmpl\n",
      "Petrol\n",
      "1298\n",
      "80bhp@6000rpm\n",
      "103Nm@4500rpm\n",
      "8\n",
      "1.3-litre 80bhp 16V G13BB MPFI Gasoline Engine\n",
      "Manual\n",
      "350-litres\n",
      "Finance Quotes\n"
     ]
    }
   ],
   "source": [
    "link6 = \"https://www.cardekho.com/overview/Maruti_Gypsy/Maruti_Gypsy_King_Hard_Top_Ambulance_BSIV.htm\"\n",
    "req6 = requests.get(link6)\n",
    "soup6 = bs4.BeautifulSoup(req6.text,\"html.parser\")\n",
    "data6 = soup6.find_all(\"div\",attrs={\"data-id\",\"Overview\"})\n",
    "data7 = soup6.find(\"td\",text=\"Fuel Type\").parent\n",
    "data8 = data7.parent\n",
    "for dat in data8:\n",
    "    print(dat.span.get_text())"
   ]
  },
  {
   "cell_type": "code",
   "execution_count": null,
   "metadata": {},
   "outputs": [],
   "source": []
  }
 ],
 "metadata": {
  "kernelspec": {
   "display_name": "Python 3",
   "language": "python",
   "name": "python3"
  },
  "language_info": {
   "codemirror_mode": {
    "name": "ipython",
    "version": 3
   },
   "file_extension": ".py",
   "mimetype": "text/x-python",
   "name": "python",
   "nbconvert_exporter": "python",
   "pygments_lexer": "ipython3",
   "version": "3.6.5"
  }
 },
 "nbformat": 4,
 "nbformat_minor": 2
}
