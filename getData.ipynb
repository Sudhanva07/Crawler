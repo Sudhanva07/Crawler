{
 "cells": [
  {
   "cell_type": "code",
   "execution_count": 3,
   "metadata": {},
   "outputs": [],
   "source": [
    "import bs4\n",
    "import requests"
   ]
  },
  {
   "cell_type": "code",
   "execution_count": 4,
   "metadata": {},
   "outputs": [],
   "source": [
    "class obtainData:\n",
    "#     def __init__(self):\n",
    "#         self.link = \"\"\n",
    "#         self.data = list\n",
    "        \n",
    "    def get_data(link):\n",
    "#         self.link = link\n",
    "        data_to_send  = []\n",
    "        req6 = requests.get(link)\n",
    "        soup6 = bs4.BeautifulSoup(req6.text,\"html.parser\")\n",
    "        \n",
    "        data9 = soup6.find(\"div\",attrs={\"class\",\"gsc_col-xs-12 gsc_col-sm-12 gsc_col-md-7 gsc_col-lg-7 overviewdetail\"})\n",
    "        data_to_send.append(data9.h1.get_text())\n",
    "\n",
    "        data10 = data9.find(\"div\",attrs={\"class\",\"price\"})\n",
    "        price = data10.get_text().split('*')\n",
    "        data_to_send.append(price[0])\n",
    "        \n",
    "        data6 = soup6.find_all(\"div\",attrs={\"data-id\",\"Overview\"})\n",
    "        data7 = soup6.find(\"td\",text=\"Fuel Type\").parent\n",
    "        data8 = data7.parent\n",
    "        for dat in data8:\n",
    "            data_to_send.append(dat.span.get_text())\n",
    "\n",
    "\n",
    "\n",
    "        \n",
    "        return data_to_send\n",
    "\n",
    "        \n",
    "        "
   ]
  },
  {
   "cell_type": "code",
   "execution_count": 6,
   "metadata": {},
   "outputs": [
    {
     "data": {
      "text/plain": [
       "['Maruti Swift LXI',\n",
       " 'Rs.4.99 Lakh',\n",
       " '22.0 kmpl',\n",
       " 'Petrol',\n",
       " '1197',\n",
       " '81.80bhp@6000rpm',\n",
       " '113Nm@4200rpm',\n",
       " '5',\n",
       " '1.2 litre 81.80bhp 16V  Petrol Engine',\n",
       " 'Manual',\n",
       " '268 Liters',\n",
       " 'Finance Quotes']"
      ]
     },
     "execution_count": 6,
     "metadata": {},
     "output_type": "execute_result"
    }
   ],
   "source": [
    "a = obtainData\n",
    "link = \"https://www.cardekho.com/overview/Maruti_Swift/Maruti_Swift_LXI_2018.htm\"\n",
    "data = a.get_data(link)\n",
    "data"
   ]
  },
  {
   "cell_type": "code",
   "execution_count": null,
   "metadata": {},
   "outputs": [],
   "source": []
  },
  {
   "cell_type": "code",
   "execution_count": null,
   "metadata": {},
   "outputs": [],
   "source": []
  }
 ],
 "metadata": {
  "kernelspec": {
   "display_name": "Python 3",
   "language": "python",
   "name": "python3"
  },
  "language_info": {
   "codemirror_mode": {
    "name": "ipython",
    "version": 3
   },
   "file_extension": ".py",
   "mimetype": "text/x-python",
   "name": "python",
   "nbconvert_exporter": "python",
   "pygments_lexer": "ipython3",
   "version": "3.6.5"
  }
 },
 "nbformat": 4,
 "nbformat_minor": 2
}
