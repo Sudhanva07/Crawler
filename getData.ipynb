{
 "cells": [
  {
   "cell_type": "code",
   "execution_count": 1,
   "metadata": {},
   "outputs": [],
   "source": [
    "import bs4\n",
    "import requests"
   ]
  },
  {
   "cell_type": "code",
   "execution_count": 4,
   "metadata": {},
   "outputs": [],
   "source": [
    "class obtainData:\n",
    "#     def __init__(self):\n",
    "#         self.link = \"\"\n",
    "#         self.data = list\n",
    "        \n",
    "    def get_data(link):\n",
    "#         self.link = link\n",
    "        req = requests.get(link)\n",
    "        data_to_send  = []\n",
    "        soup = bs4.BeautifulSoup(req.text,\"html.parser\")\n",
    "        data = soup.find(\"div\",attrs={\"class\",\"gsc_col-xs-12 gsc_col-sm-12 gsc_col-md-7 gsc_col-lg-7 overviewdetail\"})\n",
    "        data_to_send.append(data.h1.get_text())\n",
    "        \n",
    "        \n",
    "        data2 = data.find(\"div\",attrs={\"class\",\"price\"})\n",
    "        price = data2.get_text().split('*')\n",
    "        data_to_send.append(price[0])\n",
    "        \n",
    "        \n",
    "        data = soup.find_all(\"td\",attrs={\"class\",\"gsc_col-xs-12 textHold\"})\n",
    "        for dat in data:\n",
    "            data_to_send.append(dat.get_text())\n",
    "#             print(type(dat.get_text()))\n",
    "        \n",
    "        return data_to_send\n",
    "\n",
    "        \n",
    "        "
   ]
  },
  {
   "cell_type": "code",
   "execution_count": 6,
   "metadata": {},
   "outputs": [
    {
     "name": "stdout",
     "output_type": "stream",
     "text": [
      "<class 'str'>\n",
      "<class 'str'>\n",
      "<class 'str'>\n",
      "<class 'str'>\n",
      "<class 'str'>\n",
      "<class 'str'>\n"
     ]
    },
    {
     "data": {
      "text/plain": [
       "['Maruti Swift',\n",
       " 'Rs.4.99 - 8.85 Lakh',\n",
       " '28.4 kmpl',\n",
       " '1248 cc',\n",
       " '81.8',\n",
       " 'Automatic/Manual',\n",
       " '5',\n",
       " 'Rs.4,483/yr']"
      ]
     },
     "execution_count": 6,
     "metadata": {},
     "output_type": "execute_result"
    }
   ],
   "source": [
    "a = obtainData\n",
    "link = \"https://www.cardekho.com/carmodels/Maruti/Maruti_Swift\"\n",
    "data = a.get_data(link)\n",
    "data"
   ]
  },
  {
   "cell_type": "code",
   "execution_count": null,
   "metadata": {},
   "outputs": [],
   "source": []
  },
  {
   "cell_type": "code",
   "execution_count": null,
   "metadata": {},
   "outputs": [],
   "source": []
  }
 ],
 "metadata": {
  "kernelspec": {
   "display_name": "Python 3",
   "language": "python",
   "name": "python3"
  },
  "language_info": {
   "codemirror_mode": {
    "name": "ipython",
    "version": 3
   },
   "file_extension": ".py",
   "mimetype": "text/x-python",
   "name": "python",
   "nbconvert_exporter": "python",
   "pygments_lexer": "ipython3",
   "version": "3.6.5"
  }
 },
 "nbformat": 4,
 "nbformat_minor": 2
}
