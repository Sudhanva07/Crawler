{
 "cells": [
  {
   "cell_type": "code",
   "execution_count": 15,
   "metadata": {},
   "outputs": [],
   "source": [
    "from save_to_file import *\n",
    "from getData import *"
   ]
  },
  {
   "cell_type": "code",
   "execution_count": 16,
   "metadata": {},
   "outputs": [],
   "source": [
    "path = \"1.csv\"\n",
    "create_data_file(path)\n",
    "a = obtainData\n",
    "link = \"https://www.cardekho.com/carmodels/Maruti/Maruti_Wagon_R\"\n",
    "# data = a.get_data(link)\n",
    "# data\n",
    "write_file(path,a.get_data(link))"
   ]
  },
  {
   "cell_type": "code",
   "execution_count": 17,
   "metadata": {},
   "outputs": [],
   "source": [
    "a = obtainData\n",
    "link = \"https://www.cardekho.com/carmodels/Maruti/Maruti_Wagon_R\"\n",
    "data2 = a.get_data(link)\n",
    "f = open(\"your_file.txt\",\"w\")\n",
    "for item in data2:\n",
    "    f.write(\"%s\\n\" % item)"
   ]
  },
  {
   "cell_type": "code",
   "execution_count": 18,
   "metadata": {},
   "outputs": [
    {
     "name": "stdout",
     "output_type": "stream",
     "text": [
      "Maruti Wagon R\n",
      "Rs.4.19 - 5.69 Lakh\n",
      "22.5 kmpl\n",
      "1197 cc\n",
      "81.8\n",
      "Manual/Automatic\n",
      "5\n",
      "yes\n"
     ]
    }
   ],
   "source": [
    "with open(\"your_file.txt\", \"r\") as fd:\n",
    "    for line in fd:\n",
    "        line = line.replace(\"\\n\", \"\")\n",
    "        print(line)"
   ]
  },
  {
   "cell_type": "code",
   "execution_count": null,
   "metadata": {},
   "outputs": [],
   "source": []
  }
 ],
 "metadata": {
  "kernelspec": {
   "display_name": "Python 3",
   "language": "python",
   "name": "python3"
  },
  "language_info": {
   "codemirror_mode": {
    "name": "ipython",
    "version": 3
   },
   "file_extension": ".py",
   "mimetype": "text/x-python",
   "name": "python",
   "nbconvert_exporter": "python",
   "pygments_lexer": "ipython3",
   "version": "3.6.5"
  }
 },
 "nbformat": 4,
 "nbformat_minor": 2
}
