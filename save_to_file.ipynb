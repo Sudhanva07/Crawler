{
 "cells": [
  {
   "cell_type": "code",
   "execution_count": 2,
   "metadata": {},
   "outputs": [],
   "source": [
    "import csv\n",
    "import os"
   ]
  },
  {
   "cell_type": "code",
   "execution_count": 17,
   "metadata": {},
   "outputs": [],
   "source": [
    "def create_data_file(path):\n",
    "    data = ['Name','Price','Milage','Engine','BHP','Transmission','Seats','ServiceCost']\n",
    "    if not os.path.isfile(path):\n",
    "        write_file(prj_name,data)\n",
    "        \n",
    "def write_file(path,data):\n",
    "    with open(path,'a') as csvFile:\n",
    "        writer = csv.writer(csvFile)\n",
    "        writer.writerow(data)\n",
    "    csvFile.close\n",
    "\n",
    "    \n"
   ]
  },
  {
   "cell_type": "code",
   "execution_count": 18,
   "metadata": {},
   "outputs": [
    {
     "name": "stdout",
     "output_type": "stream",
     "text": [
      "1.csv\n"
     ]
    }
   ],
   "source": [
    "prj_name = input()\n",
    "data = ['Maruti Swift','Rs.4.99 - 8.85 Lakh','28.4 kmpl','1248 cc','81.8','Automatic/Manual','5','Rs.4,483/yr']\n",
    "create_data_file(prj_name)\n",
    "write_file(prj_name,data)"
   ]
  },
  {
   "cell_type": "code",
   "execution_count": null,
   "metadata": {},
   "outputs": [],
   "source": []
  }
 ],
 "metadata": {
  "kernelspec": {
   "display_name": "Python 3",
   "language": "python",
   "name": "python3"
  },
  "language_info": {
   "codemirror_mode": {
    "name": "ipython",
    "version": 3
   },
   "file_extension": ".py",
   "mimetype": "text/x-python",
   "name": "python",
   "nbconvert_exporter": "python",
   "pygments_lexer": "ipython3",
   "version": "3.6.5"
  }
 },
 "nbformat": 4,
 "nbformat_minor": 2
}
